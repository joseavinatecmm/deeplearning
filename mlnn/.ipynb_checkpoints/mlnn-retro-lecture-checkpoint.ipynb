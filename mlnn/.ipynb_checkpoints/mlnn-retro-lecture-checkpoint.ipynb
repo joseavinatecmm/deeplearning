{
 "cells": [
  {
   "cell_type": "markdown",
   "metadata": {},
   "source": [
    "# Entrenamiento de una Red Neuronal con Retropropagación"
   ]
  },
  {
   "cell_type": "markdown",
   "metadata": {},
   "source": [
    "## 1. Introducción\n",
    "\n",
    "En este notebook, implementaremos una **red neuronal de tres capas** (entrada, oculta y salida) utilizando **retropropagación del error** y la **función de activación sigmoide**. El objetivo es entrenar la red neuronal para que aprenda a mapear un conjunto de entradas a un conjunto de salidas deseadas."
   ]
  },
  {
   "cell_type": "markdown",
   "metadata": {},
   "source": [
    "## 2. Descripción del Problema\n",
    "\n",
    "- **Entradas**: Un vector de tres valores \\( x = [x_1, x_2, x_3] \\).\n",
    "- **Salidas Deseadas**: Un vector de dos valores \\( t = [t_1, t_2] \\).\n",
    "- **Arquitectura de la Red**:\n",
    "  - **Capa de Entrada**: 3 neuronas.\n",
    "  - **Capa Oculta**: 2 neuronas.\n",
    "  - **Capa de Salida**: 2 neuronas.\n",
    "- **Función de Activación**: Sigmoide.\n",
    "- **Método de Entrenamiento**: Retropropagación del error."
   ]
  },
  {
   "cell_type": "markdown",
   "metadata": {},
   "source": [
    "## 3. Implementación del Código"
   ]
  },
  {
   "cell_type": "code",
   "execution_count": null,
   "metadata": {},
   "outputs": [],
   "source": [
    "import numpy as np"
   ]
  },
  {
   "cell_type": "code",
   "execution_count": null,
   "metadata": {},
   "outputs": [],
   "source": [
    "# Función de activación sigmoide\n",
    "def sigmoid(x):\n",
    "    return 1 / (1 + np.exp(-x))\n",
    "\n",
    "# Derivada de la función sigmoide\n",
    "def sigmoid_derivative(x):\n",
    "    return x * (1 - x)"
   ]
  },
  {
   "cell_type": "code",
   "execution_count": null,
   "metadata": {},
   "outputs": [],
   "source": [
    "# Patrones de entrada\n",
    "x = np.array([1, 4, 5])  # x_1, x_2, x_3\n",
    "\n",
    "# Targets (salidas deseadas)\n",
    "t = np.array([0.05, 0.05])  # t_1, t_2"
   ]
  },
  {
   "cell_type": "code",
   "execution_count": null,
   "metadata": {},
   "outputs": [],
   "source": [
    "# Inicialización aleatoria de pesos y biases\n",
    "np.random.seed(42)  # Para reproducibilidad\n",
    "\n",
    "# Pesos de la capa de entrada a la capa oculta (3x2)\n",
    "w_h = np.random.rand(3, 2)\n",
    "\n",
    "# Bias de la capa oculta (2)\n",
    "b_h = np.random.rand(2)\n",
    "\n",
    "# Pesos de la capa oculta a la capa de salida (2x2)\n",
    "w_o = np.random.rand(2, 2)\n",
    "\n",
    "# Bias de la capa de salida (2)\n",
    "b_o = np.random.rand(2)\n",
    "\n",
    "# Imprimir valores iniciales\n",
    "print(\"Valores iniciales de los weights y biases:\")\n",
    "print(f\"Pesos capa oculta (w_h):\\n{w_h}\")\n",
    "print(f\"Bias capa oculta (b_h): {b_h}\")\n",
    "print(f\"Pesos capa salida (w_o):\\n{w_o}\")\n",
    "print(f\"Bias capa salida (b_o): {b_o}\\n\")"
   ]
  },
  {
   "cell_type": "code",
   "execution_count": null,
   "metadata": {},
   "outputs": [],
   "source": [
    "# Tasa de aprendizaje\n",
    "learning_rate = 0.1\n",
    "\n",
    "# Número máximo de épocas\n",
    "epochs = 10000\n",
    "\n",
    "# Umbral de accuracy para detener el entrenamiento\n",
    "accuracy_threshold = 0.90  # 90%"
   ]
  },
  {
   "cell_type": "code",
   "execution_count": null,
   "metadata": {},
   "outputs": [],
   "source": [
    "# Lista para almacenar el error en cada época\n",
    "errors = []\n",
    "\n",
    "# Entrenamiento\n",
    "for epoch in range(epochs):\n",
    "    # Propagación hacia adelante\n",
    "    z_h = np.dot(x, w_h) + b_h  # Suma ponderada en la capa oculta\n",
    "    h = sigmoid(z_h)  # Salida de la capa oculta\n",
    "\n",
    "    z_o = np.dot(h, w_o) + b_o  # Suma ponderada en la capa de salida\n",
    "    o = sigmoid(z_o)  # Salida de la capa de salida\n",
    "\n",
    "    # Cálculo del error\n",
    "    error = t - o\n",
    "    mse = np.mean(np.square(error))  # Error cuadrático medio\n",
    "\n",
    "    # Cálculo del accuracy\n",
    "    accuracy = 1 - np.mean(np.abs(error) / np.abs(t))  # Accuracy basado en el error relativo\n",
    "\n",
    "    # Retropropagación del error\n",
    "    d_o = error * sigmoid_derivative(o)  # Gradiente de la capa de salida\n",
    "    error_h = np.dot(d_o, w_o.T)  # Propagación del error a la capa oculta\n",
    "    d_h = error_h * sigmoid_derivative(h)  # Gradiente de la capa oculta\n",
    "\n",
    "    # Actualización de pesos y biases\n",
    "    w_o += learning_rate * np.outer(h, d_o)  # Actualización de pesos de salida\n",
    "    b_o += learning_rate * d_o  # Actualización de bias de salida\n",
    "    w_h += learning_rate * np.outer(x, d_h)  # Actualización de pesos ocultos\n",
    "    b_h += learning_rate * d_h  # Actualización de bias ocultos\n",
    "\n",
    "    # Guardar el error para graficar\n",
    "    errors.append(mse)\n",
    "\n",
    "    # Imprimir el error y el accuracy cada 1000 épocas\n",
    "    if epoch % 1000 == 0:\n",
    "        print(f\"Época {epoch}, Error: {mse:.6f}, Accuracy: {accuracy * 100:.2f}%\")\n",
    "\n",
    "    # Detener el entrenamiento si se alcanza el accuracy deseado\n",
    "    if accuracy >= accuracy_threshold:\n",
    "        print(f\"\\nEntrenamiento detenido en la época {epoch}. Accuracy alcanzado: {accuracy * 100:.2f}%\")\n",
    "        break"
   ]
  },
  {
   "cell_type": "code",
   "execution_count": null,
   "metadata": {},
   "outputs": [],
   "source": [
    "# Imprimir valores finales de weights y biases\n",
    "print(\"\\nValores finales de los weights y biases:\")\n",
    "print(f\"Pesos capa oculta (w_h):\\n{w_h}\")\n",
    "print(f\"Bias capa oculta (b_h): {b_h}\")\n",
    "print(f\"Pesos capa salida (w_o):\\n{w_o}\")\n",
    "print(f\"Bias capa salida (b_o): {b_o}\\n\")\n",
    "\n",
    "# Explicación del cálculo del error y accuracy\n",
    "print(\"Cálculo del error y accuracy:\")\n",
    "print(f\"Targets (t): {t}\")\n",
    "print(f\"Salida de la red (o): {o}\")\n",
    "print(f\"Error (t - o): {error}\")\n",
    "print(f\"Error cuadrático medio (MSE): {mse:.6f}\")\n",
    "print(f\"Accuracy: {accuracy * 100:.2f}% (Deseado: {accuracy_threshold * 100}%)\\n\")"
   ]
  },
  {
   "cell_type": "code",
   "execution_count": null,
   "metadata": {},
   "outputs": [],
   "source": [
    "# Función para probar que los patrones han sido aprendidos\n",
    "def probar_patron(patron):\n",
    "    z_h = np.dot(patron, w_h) + b_h  # Suma ponderada en la capa oculta\n",
    "    h = sigmoid(z_h)  # Salida de la capa oculta\n",
    "    z_o = np.dot(h, w_o) + b_o  # Suma ponderada en la capa de salida\n",
    "    o = sigmoid(z_o)  # Salida de la capa de salida\n",
    "    return o\n",
    "\n",
    "# Probar el patrón de entrada\n",
    "print(\"Probando el patrón de entrada:\")\n",
    "patron_prueba = np.array([1, 4, 5])  # Mismo patrón de entrenamiento\n",
    "salida_prueba = probar_patron(patron_prueba)\n",
    "print(f\"Entrada: {patron_prueba}, Salida: {salida_prueba}\")"
   ]
  },
  {
   "cell_type": "markdown",
   "metadata": {},
   "source": [
    "## 5. Conclusión\n",
    "\n",
    "Este notebook demostró cómo implementar y entrenar una red neuronal de tres capas utilizando retropropagación del error. La red neuronal aprendió a mapear las entradas a las salidas deseadas con un accuracy del 90%. Además, se incluyó una función para probar que los patrones han sido aprendidos correctamente."
   ]
  },
  {
   "cell_type": "markdown",
   "metadata": {},
   "source": [
    "## 6. Ejercicios Adicionales\n",
    "\n",
    "1. **Modifica los valores de entrada** \\( x \\) y los targets \\( t \\) para ver cómo afecta el entrenamiento.\n",
    "2. **Cambia la tasa de aprendizaje** (`learning_rate`) y observa cómo influye en la convergencia del entrenamiento.\n",
    "3. **Aumenta el número de neuronas en la capa oculta** y analiza si mejora el rendimiento de la red."
   ]
  }
 ],
 "metadata": {
  "kernelspec": {
   "display_name": "Python 3",
   "language": "python",
   "name": "python3"
  },
  "language_info": {
   "codemirror_mode": {
    "name": "ipython",
    "version": 3
   },
   "file_extension": ".py",
   "mimetype": "text/x-python",
   "name": "python",
   "nbconvert_exporter": "python",
   "pygments_lexer": "ipython3",
   "version": "3.8.5"
  }
 },
 "nbformat": 4,
 "nbformat_minor": 4
}

