{
 "cells": [
  {
   "cell_type": "markdown",
   "metadata": {},
   "source": [
    "# Creación de un Perceptrón Multicapa de Tres Capas con `sklearn.neural_network`\n",
    "\n",
    "En este notebook, aprenderás a crear un perceptrón multicapa (MLP, por sus siglas en inglés) de tres capas utilizando la librería `sklearn.neural_network`. Cubriremos todo el pipeline de la tarea de clasificación, desde la generación del dataset hasta la evaluación del modelo.\n",
    "\n",
    "## Objetivos:\n",
    "1. Generar un dataset sintético con al menos cinco variables independientes.\n",
    "2. Dividir el dataset en conjuntos de entrenamiento y prueba.\n",
    "3. Normalizar los datos.\n",
    "4. Crear y entrenar un perceptrón multicapa de tres capas.\n",
    "5. Evaluar el modelo utilizando la matriz de confusión y la curva de error.\n",
    "6. Explicar cada función y sus argumentos.\n",
    "7. Realizar predicciones con nuevos patrones de datos."
   ]
  },
  {
   "cell_type": "markdown",
   "metadata": {},
   "source": [
    "## Paso 1: Importación de Librerías\n",
    "\n",
    "Primero, importamos las librerías necesarias para el proyecto."
   ]
  },
  {
   "cell_type": "code",
   "execution_count": 6,
   "metadata": {},
   "outputs": [],
   "source": [
    "import numpy as np\n",
    "import pandas as pd\n",
    "import matplotlib.pyplot as plt\n",
    "from sklearn.datasets import make_classification\n",
    "from sklearn.model_selection import train_test_split\n",
    "from sklearn.preprocessing import StandardScaler\n",
    "from sklearn.neural_network import MLPClassifier\n",
    "from sklearn.metrics import accuracy_score, confusion_matrix, classification_report\n",
    "import seaborn as sns"
   ]
  },
  {
   "cell_type": "markdown",
   "metadata": {},
   "source": [
    "## Paso 2: Generación del Dataset\n",
    "\n",
    "Utilizamos la función `make_classification` de `sklearn` para generar un dataset sintético con cinco variables independientes y dos clases."
   ]
  },
  {
   "cell_type": "code",
   "execution_count": 36,
   "metadata": {},
   "outputs": [
    {
     "name": "stdout",
     "output_type": "stream",
     "text": [
      "Primeras filas del dataset:\n"
     ]
    },
    {
     "data": {
      "text/html": [
       "<div>\n",
       "<style scoped>\n",
       "    .dataframe tbody tr th:only-of-type {\n",
       "        vertical-align: middle;\n",
       "    }\n",
       "\n",
       "    .dataframe tbody tr th {\n",
       "        vertical-align: top;\n",
       "    }\n",
       "\n",
       "    .dataframe thead th {\n",
       "        text-align: right;\n",
       "    }\n",
       "</style>\n",
       "<table border=\"1\" class=\"dataframe\">\n",
       "  <thead>\n",
       "    <tr style=\"text-align: right;\">\n",
       "      <th></th>\n",
       "      <th>Feature_1</th>\n",
       "      <th>Feature_2</th>\n",
       "      <th>Feature_3</th>\n",
       "      <th>Feature_4</th>\n",
       "      <th>Feature_5</th>\n",
       "      <th>Target</th>\n",
       "    </tr>\n",
       "  </thead>\n",
       "  <tbody>\n",
       "    <tr>\n",
       "      <th>0</th>\n",
       "      <td>0.751790</td>\n",
       "      <td>3.184258</td>\n",
       "      <td>0.092019</td>\n",
       "      <td>1.227394</td>\n",
       "      <td>-0.997310</td>\n",
       "      <td>1</td>\n",
       "    </tr>\n",
       "    <tr>\n",
       "      <th>1</th>\n",
       "      <td>0.807304</td>\n",
       "      <td>1.126680</td>\n",
       "      <td>2.787603</td>\n",
       "      <td>1.988043</td>\n",
       "      <td>-0.331954</td>\n",
       "      <td>1</td>\n",
       "    </tr>\n",
       "    <tr>\n",
       "      <th>2</th>\n",
       "      <td>1.563154</td>\n",
       "      <td>-0.495054</td>\n",
       "      <td>1.727100</td>\n",
       "      <td>1.308530</td>\n",
       "      <td>-0.413501</td>\n",
       "      <td>1</td>\n",
       "    </tr>\n",
       "    <tr>\n",
       "      <th>3</th>\n",
       "      <td>3.002685</td>\n",
       "      <td>-0.547441</td>\n",
       "      <td>-0.087456</td>\n",
       "      <td>2.586871</td>\n",
       "      <td>0.608524</td>\n",
       "      <td>0</td>\n",
       "    </tr>\n",
       "    <tr>\n",
       "      <th>4</th>\n",
       "      <td>-0.684031</td>\n",
       "      <td>-0.556652</td>\n",
       "      <td>2.439790</td>\n",
       "      <td>-1.862443</td>\n",
       "      <td>2.160116</td>\n",
       "      <td>1</td>\n",
       "    </tr>\n",
       "  </tbody>\n",
       "</table>\n",
       "</div>"
      ],
      "text/plain": [
       "   Feature_1  Feature_2  Feature_3  Feature_4  Feature_5  Target\n",
       "0   0.751790   3.184258   0.092019   1.227394  -0.997310       1\n",
       "1   0.807304   1.126680   2.787603   1.988043  -0.331954       1\n",
       "2   1.563154  -0.495054   1.727100   1.308530  -0.413501       1\n",
       "3   3.002685  -0.547441  -0.087456   2.586871   0.608524       0\n",
       "4  -0.684031  -0.556652   2.439790  -1.862443   2.160116       1"
      ]
     },
     "execution_count": 36,
     "metadata": {},
     "output_type": "execute_result"
    }
   ],
   "source": [
    "# Generar dataset sintético\n",
    "X, y = make_classification(\n",
    "    n_samples=1000,  # Número de muestras\n",
    "    n_features=5,    # Número de características (variables independientes)\n",
    "    n_classes=2,     # Número de clases\n",
    "    n_informative=5, # Características informativas\n",
    "    n_redundant=0,   # Características redundantes\n",
    "    random_state=42  # Semilla para reproducibilidad\n",
    ")\n",
    "\n",
    "# Convertir a DataFrame para visualización\n",
    "df = pd.DataFrame(X, columns=[f'Feature_{i+1}' for i in range(5)])\n",
    "df['Target'] = y\n",
    "\n",
    "# Mostrar las primeras filas del dataset\n",
    "print(\"Primeras filas del dataset:\")\n",
    "df.head()"
   ]
  },
  {
   "cell_type": "markdown",
   "metadata": {},
   "source": [
    "## Paso 3: División del Dataset\n",
    "\n",
    "Dividimos el dataset en conjuntos de entrenamiento (70%) y prueba (30%)."
   ]
  },
  {
   "cell_type": "code",
   "execution_count": 10,
   "metadata": {},
   "outputs": [
    {
     "name": "stdout",
     "output_type": "stream",
     "text": [
      "Tamaño del conjunto de entrenamiento: (700, 5)\n",
      "Tamaño del conjunto de prueba: (300, 5)\n"
     ]
    }
   ],
   "source": [
    "X_train, X_test, y_train, y_test = train_test_split(X, y, test_size=0.3, random_state=42)\n",
    "\n",
    "print(f\"Tamaño del conjunto de entrenamiento: {X_train.shape}\")\n",
    "print(f\"Tamaño del conjunto de prueba: {X_test.shape}\")"
   ]
  },
  {
   "cell_type": "markdown",
   "metadata": {},
   "source": [
    "## Paso 4: Normalización de los Datos\n",
    "\n",
    "Normalizamos los datos para que tengan media 0 y desviación estándar 1. Esto es importante para el entrenamiento de redes neuronales.\n",
    "\n",
    "### ¿Por qué es importante normalizar los datos?\n",
    "1. **Evitar el desequilibrio en las escalas**: Si las características tienen escalas muy diferentes (por ejemplo, una característica varía entre 0 y 1, y otra entre 0 y 1000), el modelo puede dar más importancia a las características con valores más grandes.\n",
    "2. **Convergencia más rápida**: Los algoritmos de optimización, como el descenso de gradiente, convergen más rápido cuando los datos están normalizados.\n",
    "3. **Estabilidad numérica**: La normalización ayuda a evitar problemas numéricos, como el desbordamiento (overflow) o el subdesbordamiento (underflow)."
   ]
  },
  {
   "cell_type": "code",
   "execution_count": 12,
   "metadata": {},
   "outputs": [
    {
     "name": "stdout",
     "output_type": "stream",
     "text": [
      "Datos normalizados:\n",
      "[[-0.09409809 -0.72925228  0.14952011  0.35198422  0.51881636]\n",
      " [ 2.19160541  0.18620021 -0.60144706 -0.46363492  1.48027261]\n",
      " [-0.41873193 -1.68345007 -0.23621336  0.25739317 -0.23987527]\n",
      " [ 0.10928149 -1.15567687 -0.17175446  0.61501446  0.15290009]\n",
      " [ 0.56172516  0.29836694  0.02060811 -0.27974637 -1.27013087]]\n"
     ]
    }
   ],
   "source": [
    "scaler = StandardScaler()\n",
    "X_train = scaler.fit_transform(X_train)\n",
    "X_test = scaler.transform(X_test)\n",
    "\n",
    "print(\"Datos normalizados:\")\n",
    "print(X_train[:5])"
   ]
  },
  {
   "cell_type": "markdown",
   "metadata": {},
   "source": [
    "## Paso 5: Creación del Perceptrón Multicapa\n",
    "\n",
    "Creamos un perceptrón multicapa de tres capas utilizando `MLPClassifier`. Las capas son:\n",
    "- Capa oculta 1: 10 neuronas\n",
    "- Capa oculta 2: 5 neuronas\n",
    "- Capa de salida: 1 neurona (para clasificación binaria)\n",
    "\n",
    "### Argumentos principales de `MLPClassifier`:\n",
    "- `hidden_layer_sizes=(10, 5)`: Define dos capas ocultas con 10 y 5 neuronas, respectivamente.\n",
    "- `activation='relu'`: Función de activación ReLU.\n",
    "- `solver='adam'`: Optimizador Adam.\n",
    "- `max_iter=1000`: Número máximo de iteraciones.\n",
    "- `learning_rate_init=0.01`: Tasa de aprendizaje inicial.\n",
    "- `random_state=42`: Semilla para reproducibilidad.\n",
    "\n",
    "### ¿Qué es la función de activación ReLU?\n",
    "La función de activación **ReLU** (Rectified Linear Unit) se define como:\n",
    "\\[\\text{ReLU}(z) = \\max(0, z)\\]\n",
    "\n",
    "Es una función no lineal que introduce no linealidad en el modelo, permitiendo que la red neuronal aprenda patrones complejos. Es ampliamente utilizada porque es computacionalmente eficiente y ayuda a mitigar el problema del **gradiente desaparecido**.\n",
    "\n",
    "### ¿Por qué se usa el optimizador Adam?\n",
    "**Adam** (Adaptive Moment Estimation) es un optimizador que combina las ventajas de dos métodos: **RMSProp** y **Momentum**. Es eficiente y funciona bien en la mayoría de los casos. Algunas de sus ventajas son:\n",
    "1. **Adaptabilidad**: Ajusta automáticamente la tasa de aprendizaje durante el entrenamiento.\n",
    "2. **Eficiencia**: Converge más rápido que otros optimizadores como el descenso de gradiente estándar.\n",
    "\n",
    "### Otros optimizadores comunes:\n",
    "- **SGD (Stochastic Gradient Descent)**: Descenso de gradiente estocástico. Es simple pero puede ser lento.\n",
    "- **RMSProp**: Adapta la tasa de aprendizaje basándose en el promedio móvil de los gradientes recientes.\n",
    "- **Adagrad**: Adapta la tasa de aprendizaje para cada parámetro, pero puede reducirla demasiado.\n",
    "- **Adadelta**: Mejora de Adagrad que no requiere una tasa de aprendizaje inicial."
   ]
  },
  {
   "cell_type": "code",
   "execution_count": 14,
   "metadata": {},
   "outputs": [
    {
     "name": "stdout",
     "output_type": "stream",
     "text": [
      "Entrenamiento completado.\n"
     ]
    }
   ],
   "source": [
    "mlp = MLPClassifier(\n",
    "    hidden_layer_sizes=(10, 5),  # Dos capas ocultas con 10 y 5 neuronas\n",
    "    activation='relu',           # Función de activación ReLU\n",
    "    solver='adam',               # Optimizador Adam\n",
    "    max_iter=1000,               # Número máximo de iteraciones\n",
    "    learning_rate_init=0.01,     # Tasa de aprendizaje inicial\n",
    "    random_state=42              # Semilla para reproducibilidad\n",
    ")\n",
    "\n",
    "# Entrenar el modelo\n",
    "mlp.fit(X_train, y_train)\n",
    "print(\"Entrenamiento completado.\")"
   ]
  },
  {
   "cell_type": "markdown",
   "metadata": {},
   "source": [
    "## Paso 6: Predicciones y Evaluación\n",
    "\n",
    "Realizamos predicciones en el conjunto de prueba y evaluamos el rendimiento del modelo."
   ]
  },
  {
   "cell_type": "code",
   "execution_count": 16,
   "metadata": {},
   "outputs": [
    {
     "name": "stdout",
     "output_type": "stream",
     "text": [
      "Precisión del modelo: 0.95\n"
     ]
    }
   ],
   "source": [
    "# Predicciones\n",
    "y_pred = mlp.predict(X_test)\n",
    "\n",
    "# Precisión del modelo\n",
    "accuracy = accuracy_score(y_test, y_pred)\n",
    "print(f\"Precisión del modelo: {accuracy:.2f}\")"
   ]
  },
  {
   "cell_type": "markdown",
   "metadata": {},
   "source": [
    "## Paso 7: Matriz de Confusión\n",
    "\n",
    "La **matriz de confusión** es una herramienta para evaluar el rendimiento de un modelo de clasificación. Muestra la cantidad de predicciones correctas e incorrectas para cada clase.\n",
    "\n",
    "### Estructura:\n",
    "|                     | Predicción: Clase 0 | Predicción: Clase 1 |\n",
    "|---------------------|---------------------|---------------------|\n",
    "| **Real: Clase 0**   | Verdaderos Negativos (TN) | Falsos Positivos (FP) |\n",
    "| **Real: Clase 1**   | Falsos Negativos (FN) | Verdaderos Positivos (TP) |\n",
    "\n",
    "### Métricas derivadas:\n",
    "- **Precisión = TP / (TP + FP)**\n",
    "- **Recall (Sensibilidad) = TP / (TP + FN)**\n",
    "- **Exactitud = (TP + TN) / (TP + TN + FP + FN)**"
   ]
  },
  {
   "cell_type": "code",
   "execution_count": 18,
   "metadata": {},
   "outputs": [
    {
     "data": {
      "image/png": "[encoded data removed]",
      "text/plain": [
       "<Figure size 600x400 with 2 Axes>"
      ]
     },
     "metadata": {},
     "output_type": "display_data"
    }
   ],
   "source": [
    "# Matriz de confusión\n",
    "conf_matrix = confusion_matrix(y_test, y_pred)\n",
    "\n",
    "# Visualización\n",
    "plt.figure(figsize=(6, 4))\n",
    "sns.heatmap(conf_matrix, annot=True, fmt=\"d\", cmap=\"Blues\", xticklabels=[\"Clase 0\", \"Clase 1\"], yticklabels=[\"Clase 0\", \"Clase 1\"])\n",
    "plt.xlabel(\"Predicción\")\n",
    "plt.ylabel(\"Real\")\n",
    "plt.title(\"Matriz de Confusión\")\n",
    "plt.show()"
   ]
  },
  {
   "cell_type": "markdown",
   "metadata": {},
   "source": [
    "## Paso 8: Curva de Error\n",
    "\n",
    "La **curva de error** muestra cómo disminuye el error durante el entrenamiento. Esto nos ayuda a verificar si el modelo está convergiendo correctamente."
   ]
  },
  {
   "cell_type": "code",
   "execution_count": 20,
   "metadata": {},
   "outputs": [
    {
     "data": {
      "image/png": "[encoded data removed]",
      "text/plain": [
       "<Figure size 640x480 with 1 Axes>"
      ]
     },
     "metadata": {},
     "output_type": "display_data"
    }
   ],
   "source": [
    "# Curva de error\n",
    "plt.plot(mlp.loss_curve_)\n",
    "plt.xlabel(\"Iteraciones\")\n",
    "plt.ylabel(\"Error\")\n",
    "plt.title(\"Curva de Error durante el Entrenamiento\")\n",
    "plt.show()"
   ]
  },
  {
   "cell_type": "markdown",
   "metadata": {},
   "source": [
    "## Paso 9: Reporte de Clasificación\n",
    "\n",
    "El **reporte de clasificación** proporciona métricas detalladas como precisión, recall y F1-score para cada clase.\n",
    "\n",
    "### Interpretación de las métricas:\n",
    "- **Precisión (Precision)**: Proporción de predicciones positivas correctas.\n",
    "  $\\text{Precisión} = \\frac{\\text{TP}}{\\text{TP} + \\text{FP}}$\n",
    "- **Recall (Sensibilidad)**: Proporción de casos positivos correctamente identificados.\n",
    "  $\\text{Recall} = \\frac{\\text{TP}}{\\text{TP} + \\text{FN}}$\n",
    "- **F1-score**: Media armónica de precisión y recall. Es útil cuando hay un desequilibrio entre clases.\n",
    "  $\\text{F1-score} = 2 \\cdot \\frac{\\text{Precisión} \\cdot \\text{Recall}}{\\text{Precisión} + \\text{Recall}}$\n",
    "- **Soporte (Support)**: Número de ocurrencias de cada clase en el conjunto de prueba."
   ]
  },
  {
   "cell_type": "code",
   "execution_count": 22,
   "metadata": {},
   "outputs": [
    {
     "name": "stdout",
     "output_type": "stream",
     "text": [
      "Reporte de clasificación:\n",
      "              precision    recall  f1-score   support\n",
      "\n",
      "           0       0.98      0.92      0.95       153\n",
      "           1       0.92      0.98      0.95       147\n",
      "\n",
      "    accuracy                           0.95       300\n",
      "   macro avg       0.95      0.95      0.95       300\n",
      "weighted avg       0.95      0.95      0.95       300\n",
      "\n"
     ]
    }
   ],
   "source": [
    "print(\"Reporte de clasificación:\")\n",
    "print(classification_report(y_test, y_pred))"
   ]
  },
  {
   "cell_type": "markdown",
   "metadata": {},
   "source": [
    "## Paso 10: Función para Realizar Predicciones\n",
    "\n",
    "Creamos una función para realizar predicciones con nuevos patrones de datos y mostrar cómo el modelo los clasifica."
   ]
  },
  {
   "cell_type": "code",
   "execution_count": 38,
   "metadata": {},
   "outputs": [
    {
     "name": "stdout",
     "output_type": "stream",
     "text": [
      "Ingresa los valores de las 5 características (separados por comas):\n"
     ]
    },
    {
     "name": "stdin",
     "output_type": "stream",
     "text": [
      "Ejemplo: 1.2, 0.5, -0.3, 2.1, 0.8\n",
      " 0.807304,1.126680,2.787603,1.988043,-0.331954\n"
     ]
    },
    {
     "name": "stdout",
     "output_type": "stream",
     "text": [
      "\n",
      "Predicción: Clase 1\n"
     ]
    }
   ],
   "source": [
    "def predecir_nuevos_patrones(modelo, scaler):\n",
    "    \"\"\"\n",
    "    Realiza predicciones con nuevos patrones de datos.\n",
    "    \n",
    "    Parámetros:\n",
    "    - modelo: El modelo de red neuronal entrenado.\n",
    "    - scaler: El escalador utilizado para normalizar los datos.\n",
    "    \"\"\"\n",
    "    print(\"Ingresa los valores de las 5 características (separados por comas):\")\n",
    "    entrada = input(\"Ejemplo: 1.2, 0.5, -0.3, 2.1, 0.8\\n\")\n",
    "    \n",
    "    # Convertir la entrada en un arreglo numpy\n",
    "    nuevo_patron = np.array([float(x) for x in entrada.split(\",\")]).reshape(1, -1)\n",
    "    \n",
    "    # Normalizar el nuevo patrón\n",
    "    nuevo_patron_normalizado = scaler.transform(nuevo_patron)\n",
    "    \n",
    "    # Realizar la predicción\n",
    "    prediccion = modelo.predict(nuevo_patron_normalizado)\n",
    "    \n",
    "    # Mostrar el resultado\n",
    "    print(f\"\\nPredicción: {'Clase 1' if prediccion[0] == 1 else 'Clase 0'}\")\n",
    "\n",
    "# Ejemplo de uso\n",
    "predecir_nuevos_patrones(mlp, scaler)"
   ]
  },
  {
   "cell_type": "code",
   "execution_count": null,
   "metadata": {},
   "outputs": [],
   "source": []
  }
 ],
 "metadata": {
  "kernelspec": {
   "display_name": "Python 3 (ipykernel)",
   "language": "python",
   "name": "python3"
  },
  "language_info": {
   "codemirror_mode": {
    "name": "ipython",
    "version": 3
   },
   "file_extension": ".py",
   "mimetype": "text/x-python",
   "name": "python",
   "nbconvert_exporter": "python",
   "pygments_lexer": "ipython3",
   "version": "3.12.7"
  }
 },
 "nbformat": 4,
 "nbformat_minor": 4
}
