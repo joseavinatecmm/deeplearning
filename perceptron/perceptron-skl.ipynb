{
 "cells": [
  {
   "cell_type": "markdown",
   "metadata": {},
   "source": [
    "# Creación de un Perceptrón con `sklearn` para Aprender una Compuerta Lógica OR"
   ]
  },
  {
   "cell_type": "markdown",
   "metadata": {},
   "source": [
    "## 1. Introducción\n",
    "\n",
    "En este notebook, implementaremos un **perceptrón** utilizando la biblioteca `sklearn` de Python. El perceptrón aprenderá a reconocer una compuerta lógica **OR**. El perceptrón es un tipo de red neuronal de una sola capa que puede clasificar patrones linealmente separables."
   ]
  },
  {
   "cell_type": "markdown",
   "metadata": {},
   "source": [
    "## 2. Descripción de la Librería `sklearn`\n",
    "\n",
    "**`scikit-learn` (sklearn)** es una de las bibliotecas más populares de Python para machine learning. Proporciona herramientas simples y eficientes para el análisis de datos y la construcción de modelos de machine learning. Algunas de sus características principales incluyen:\n",
    "\n",
    "- **Algoritmos de aprendizaje supervisado y no supervisado**: Regresión, clasificación, clustering, etc.\n",
    "- **Herramientas para preprocesamiento de datos**: Normalización, codificación de variables categóricas, etc.\n",
    "- **Evaluación de modelos**: Métricas como accuracy, precisión, recall, etc.\n",
    "- **Facilidad de uso**: Interfaces consistentes y bien documentadas.\n",
    "\n",
    "En este notebook, utilizaremos el módulo `Perceptron` de `sklearn.linear_model` para implementar un perceptrón."
   ]
  },
  {
   "cell_type": "markdown",
   "metadata": {},
   "source": [
    "## 3. Descripción del Problema\n",
    "\n",
    "- **Entradas**: Dos valores binarios (0 o 1).\n",
    "- **Salidas Esperadas**: El resultado de la compuerta OR (0 o 1).\n",
    "- **Arquitectura del Perceptrón**:\n",
    "  - **Capa de Entrada**: 2 neuronas (una para cada entrada).\n",
    "  - **Capa de Salida**: 1 neurona (salida binaria).\n",
    "- **Función de Activación**: Escalón unitario.\n",
    "- **Método de Entrenamiento**: Regla de aprendizaje del perceptrón."
   ]
  },
  {
   "cell_type": "markdown",
   "metadata": {},
   "source": [
    "## 4. Implementación del Código"
   ]
  },
  {
   "cell_type": "code",
   "execution_count": 1,
   "metadata": {},
   "outputs": [],
   "source": [
    "import numpy as np\n",
    "from sklearn.linear_model import Perceptron\n",
    "from sklearn.metrics import accuracy_score"
   ]
  },
  {
   "cell_type": "markdown",
   "metadata": {},
   "source": [
    "# Datos de la compuerta OR"
   ]
  },
  {
   "cell_type": "code",
   "execution_count": 4,
   "metadata": {},
   "outputs": [],
   "source": [
    "X = np.array([[0, 0], [0, 1], [1, 0], [1, 1]])  # Entradas\n",
    "y = np.array([0, 1, 1, 1])  # Salidas esperadas"
   ]
  },
  {
   "cell_type": "markdown",
   "metadata": {},
   "source": [
    "# Creación del perceptrón"
   ]
  },
  {
   "cell_type": "code",
   "execution_count": 9,
   "metadata": {},
   "outputs": [
    {
     "name": "stdout",
     "output_type": "stream",
     "text": [
      "Pesos aprendidos: [[0.2 0.2]]\n",
      "Bias aprendido: [-0.1]\n"
     ]
    }
   ],
   "source": [
    "perceptron = Perceptron(max_iter=1000, eta0=0.1, random_state=42)\n",
    "\n",
    "# Entrenamiento del perceptrón\n",
    "perceptron.fit(X, y)\n",
    "\n",
    "# Imprimir los pesos y el bias aprendidos\n",
    "print(\"Pesos aprendidos:\", perceptron.coef_)\n",
    "print(\"Bias aprendido:\", perceptron.intercept_)"
   ]
  },
  {
   "cell_type": "markdown",
   "metadata": {},
   "source": [
    "# Predicción de patrones"
   ]
  },
  {
   "cell_type": "code",
   "execution_count": 12,
   "metadata": {},
   "outputs": [],
   "source": [
    "def probar_patron(perceptron, X):\n",
    "    y_pred = perceptron.predict(X)\n",
    "    return y_pred"
   ]
  },
  {
   "cell_type": "markdown",
   "metadata": {},
   "source": [
    "# Prueba del perceptrón entrenado"
   ]
  },
  {
   "cell_type": "code",
   "execution_count": 15,
   "metadata": {},
   "outputs": [
    {
     "name": "stdout",
     "output_type": "stream",
     "text": [
      "\n",
      "--- Prueba del perceptrón entrenado ---\n",
      "Entrada: [0 0], Salida Esperada: 0, Salida Predicha: [0]\n",
      "Entrada: [0 1], Salida Esperada: 1, Salida Predicha: [1]\n",
      "Entrada: [1 0], Salida Esperada: 1, Salida Predicha: [1]\n",
      "Entrada: [1 1], Salida Esperada: 1, Salida Predicha: [1]\n"
     ]
    }
   ],
   "source": [
    "print(\"\\n--- Prueba del perceptrón entrenado ---\")\n",
    "for i in range(len(X)):\n",
    "    y_pred = probar_patron(perceptron, [X[i]])\n",
    "    print(f\"Entrada: {X[i]}, Salida Esperada: {y[i]}, Salida Predicha: {y_pred}\")"
   ]
  },
  {
   "cell_type": "markdown",
   "metadata": {},
   "source": [
    "# Evaluación del perceptrón"
   ]
  },
  {
   "cell_type": "code",
   "execution_count": 18,
   "metadata": {},
   "outputs": [
    {
     "name": "stdout",
     "output_type": "stream",
     "text": [
      "\n",
      "Accuracy del perceptrón: 100.00%\n"
     ]
    }
   ],
   "source": [
    "y_pred = perceptron.predict(X)\n",
    "accuracy = accuracy_score(y, y_pred)\n",
    "print(f\"\\nAccuracy del perceptrón: {accuracy * 100:.2f}%\")"
   ]
  },
  {
   "cell_type": "markdown",
   "metadata": {
    "jp-MarkdownHeadingCollapsed": true
   },
   "source": [
    "## 5. Cálculo del Accuracy\n",
    "\n",
    "El **accuracy** es una métrica común para evaluar modelos de clasificación. Se calcula como:\n",
    "\n",
    "$$\n",
    "\\text{Accuracy} = \\frac{\\text{Número de predicciones correctas}}{\\text{Número total de predicciones}}\n",
    "$$\n",
    "\n",
    "En código:\n",
    "\n",
    "```python\n",
    "accuracy = accuracy_score(y, y_pred)\n",
    "```\n",
    "\n",
    "- **`y`**: Vector de salidas esperadas.\n",
    "- **`y_pred`**: Vector de salidas predichas por el modelo.\n",
    "- **`accuracy_score`**: Compara ambos vectores y devuelve el porcentaje de coincidencias."
   ]
  },
  {
   "cell_type": "markdown",
   "metadata": {},
   "source": [
    "## 6. Conclusión\n",
    "\n",
    "Este notebook demostró cómo crear y entrenar un perceptrón utilizando `sklearn` para reconocer una compuerta lógica OR. El perceptrón aprendió a clasificar correctamente los patrones de entrada, y se evaluó su precisión utilizando la métrica de accuracy."
   ]
  },
  {
   "cell_type": "markdown",
   "metadata": {},
   "source": [
    "## 7. Ejercicios Adicionales\n",
    "\n",
    "1. **Modifica los valores de entrada** \\( X \\) y las salidas esperadas \\( y \\) para probar otras compuertas lógicas (AND, XOR, etc.).\n",
    "2. **Cambia la tasa de aprendizaje** (`eta0`) y observa cómo afecta la convergencia del entrenamiento.\n",
    "3. **Aumenta el número de épocas** (`max_iter`) y analiza si el perceptrón puede aprender patrones más complejos."
   ]
  }
 ],
 "metadata": {
  "kernelspec": {
   "display_name": "Python 3 (ipykernel)",
   "language": "python",
   "name": "python3"
  },
  "language_info": {
   "codemirror_mode": {
    "name": "ipython",
    "version": 3
   },
   "file_extension": ".py",
   "mimetype": "text/x-python",
   "name": "python",
   "nbconvert_exporter": "python",
   "pygments_lexer": "ipython3",
   "version": "3.12.7"
  }
 },
 "nbformat": 4,
 "nbformat_minor": 4
}
