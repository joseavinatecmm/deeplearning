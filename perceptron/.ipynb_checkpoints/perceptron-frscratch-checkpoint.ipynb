{
 "cells": [
  {
   "cell_type": "markdown",
   "metadata": {},
   "source": [
    "# Entrenamiento de un Perceptrón para Reconocer una Compuerta Lógica AND"
   ]
  },
  {
   "cell_type": "markdown",
   "metadata": {},
   "source": [
    "## 1. Introducción\n",
    "\n",
    "En este notebook, implementaremos un **perceptrón** para que aprenda a reconocer una compuerta lógica **AND**. El perceptrón es un tipo de red neuronal de una sola capa que puede clasificar patrones linealmente separables."
   ]
  },
  {
   "cell_type": "markdown",
   "metadata": {},
   "source": [
    "## 2. Descripción del Problema\n",
    "\n",
    "- **Entradas**: Dos valores binarios (0 o 1).\n",
    "- **Salidas Esperadas**: El resultado de la compuerta AND (0 o 1).\n",
    "- **Arquitectura del Perceptrón**:\n",
    "  - **Capa de Entrada**: 2 neuronas (una para cada entrada).\n",
    "  - **Capa de Salida**: 1 neurona (salida binaria).\n",
    "- **Función de Activación**: Escalón unitario.\n",
    "- **Método de Entrenamiento**: Regla de aprendizaje del perceptrón."
   ]
  },
  {
   "cell_type": "markdown",
   "metadata": {},
   "source": [
    "## 3. Implementación del Código"
   ]
  },
  {
   "cell_type": "code",
   "execution_count": null,
   "metadata": {},
   "outputs": [],
   "source": [
    "import numpy as np"
   ]
  },
  {
   "cell_type": "code",
   "execution_count": null,
   "metadata": {},
   "outputs": [],
   "source": [
    "# Datos de la compuerta AND\n",
    "X = np.array([[0, 0], [0, 1], [1, 0], [1, 1]])  # Entradas\n",
    "y = np.array([0, 0, 0, 1])  # Salidas esperadas"
   ]
  },
  {
   "cell_type": "code",
   "execution_count": null,
   "metadata": {},
   "outputs": [],
   "source": [
    "# Inicialización de pesos y bias\n",
    "w = np.random.rand(2)  # Pesos iniciales aleatorios\n",
    "b = np.random.rand()   # Bias inicial aleatorio\n",
    "learning_rate = 0.1    # Tasa de aprendizaje\n",
    "\n",
    "# Imprimir valores iniciales\n",
    "print(\"Valores iniciales de los pesos y bias:\")\n",
    "print(f\"Pesos: w = {w}\")\n",
    "print(f\"Bias: b = {b}\\n\")"
   ]
  },
  {
   "cell_type": "code",
   "execution_count": null,
   "metadata": {},
   "outputs": [],
   "source": [
    "# Función de activación (escalón unitario)\n",
    "def activation(z):\n",
    "    return 1 if z >= 0 else 0"
   ]
  },
  {
   "cell_type": "code",
   "execution_count": null,
   "metadata": {},
   "outputs": [],
   "source": [
    "# Entrenamiento del perceptrón\n",
    "epoch = 0\n",
    "while True:\n",
    "    epoch += 1\n",
    "    total_error = 0\n",
    "    print(f\"\\n--- Época {epoch} ---\")\n",
    "    \n",
    "    for i in range(len(X)):\n",
    "        # Cálculo de la salida del perceptrón\n",
    "        z = np.dot(X[i], w) + b\n",
    "        y_pred = activation(z)\n",
    "        \n",
    "        # Cálculo del error\n",
    "        error = y[i] - y_pred\n",
    "        total_error += error ** 2\n",
    "        \n",
    "        # Mostrar operaciones aritméticas\n",
    "        print(f\"\\nPatrón {i + 1}: Entrada = {X[i]}, Salida Esperada = {y[i]}, Salida Predicha = {y_pred}\")\n",
    "        print(f\"Error = {error}\")\n",
    "        print(f\"Pesos actuales: w = {w}, bias = {b}\")\n",
    "        \n",
    "        # Mostrar operaciones aritméticas en detalle\n",
    "        print(\"\\nOperaciones aritméticas:\")\n",
    "        print(f\"z = (w[0] * X[i][0]) + (w[1] * X[i][1]) + b\")\n",
    "        print(f\"z = ({w[0]} * {X[i][0]}) + ({w[1]} * {X[i][1]}) + {b}\")\n",
    "        print(f\"z = {w[0] * X[i][0]} + {w[1] * X[i][1]} + {b}\")\n",
    "        print(f\"z = {z}\")\n",
    "        print(f\"y_pred = activation(z) = {y_pred}\")\n",
    "        \n",
    "        if error != 0:\n",
    "            # Actualización de pesos y bias\n",
    "            print(\"\\nActualizando pesos y bias:\")\n",
    "            print(f\"w_new = w_current + (learning_rate * error * X[i])\")\n",
    "            print(f\"w_new = {w} + ({learning_rate} * {error} * {X[i]})\")\n",
    "            w += learning_rate * error * X[i]\n",
    "            print(f\"Nuevos pesos: w = {w}\")\n",
    "            \n",
    "            print(f\"\\nb_new = b_current + (learning_rate * error)\")\n",
    "            print(f\"b_new = {b} + ({learning_rate} * {error})\")\n",
    "            b += learning_rate * error\n",
    "            print(f\"Nuevo bias: b = {b}\")\n",
    "    \n",
    "    # Verificar si el error es 0 para todos los patrones\n",
    "    if total_error == 0:\n",
    "        print(\"\\n¡Entrenamiento completado! Error = 0 para todos los patrones.\")\n",
    "        break"
   ]
  },
  {
   "cell_type": "code",
   "execution_count": null,
   "metadata": {},
   "outputs": [],
   "source": [
    "# Prueba del perceptrón entrenado\n",
    "print(\"\\n--- Prueba del perceptrón entrenado ---\")\n",
    "for i in range(len(X)):\n",
    "    z = np.dot(X[i], w) + b\n",
    "    y_pred = activation(z)\n",
    "    print(f\"Entrada: {X[i]}, Salida Esperada: {y[i]}, Salida Predicha: {y_pred}\")"
   ]
  },
  {
   "cell_type": "markdown",
   "metadata": {},
   "source": [
    "## 4. Conclusión\n",
    "\n",
    "Este notebook demostró cómo entrenar un perceptrón para reconocer una compuerta lógica AND. El perceptrón aprendió a clasificar correctamente los patrones de entrada después de varias épocas de entrenamiento."
   ]
  },
  {
   "cell_type": "markdown",
   "metadata": {},
   "source": [
    "## 5. Ejercicios Adicionales\n",
    "\n",
    "1. **Modifica los valores de entrada** \\( X \\) y las salidas esperadas \\( y \\) para probar otras compuertas lógicas (OR, XOR, etc.).\n",
    "2. **Cambia la tasa de aprendizaje** (`learning_rate`) y observa cómo afecta la convergencia del entrenamiento.\n",
    "3. **Aumenta el número de épocas** y analiza si el perceptrón puede aprender patrones más complejos."
   ]
  }
 ],
 "metadata": {
  "kernelspec": {
   "display_name": "Python 3",
   "language": "python",
   "name": "python3"
  },
  "language_info": {
   "codemirror_mode": {
    "name": "ipython",
    "version": 3
   },
   "file_extension": ".py",
   "mimetype": "text/x-python",
   "name": "python",
   "nbconvert_exporter": "python",
   "pygments_lexer": "ipython3",
   "version": "3.8.5"
  }
 },
 "nbformat": 4,
 "nbformat_minor": 4
}

