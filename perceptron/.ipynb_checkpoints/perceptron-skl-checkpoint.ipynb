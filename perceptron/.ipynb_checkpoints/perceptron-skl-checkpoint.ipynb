{
 "cells": [
  {
   "cell_type": "markdown",
   "metadata": {},
   "source": [
    "# Creación de un Perceptrón con `sklearn` para Aprender una Compuerta Lógica OR"
   ]
  },
  {
   "cell_type": "markdown",
   "metadata": {},
   "source": [
    "## 1. Introducción\n",
    "\n",
    "En este notebook, implementaremos un **perceptrón** utilizando la biblioteca `sklearn` de Python. El perceptrón aprenderá a reconocer una compuerta lógica **OR**. El perceptrón es un tipo de red neuronal de una sola capa que puede clasificar patrones linealmente separables."
   ]
  },
  {
   "cell_type": "markdown",
   "metadata": {},
   "source": [
    "## 2. Descripción del Problema\n",
    "\n",
    "- **Entradas**: Dos valores binarios (0 o 1).\n",
    "- **Salidas Esperadas**: El resultado de la compuerta OR (0 o 1).\n",
    "- **Arquitectura del Perceptrón**:\n",
    "  - **Capa de Entrada**: 2 neuronas (una para cada entrada).\n",
    "  - **Capa de Salida**: 1 neurona (salida binaria).\n",
    "- **Función de Activación**: Escalón unitario.\n",
    "- **Método de Entrenamiento**: Regla de aprendizaje del perceptrón."
   ]
  },
  {
   "cell_type": "markdown",
   "metadata": {},
   "source": [
    "## 3. Implementación del Código"
   ]
  },
  {
   "cell_type": "code",
   "execution_count": null,
   "metadata": {},
   "outputs": [],
   "source": [
    "import numpy as np\n",
    "from sklearn.linear_model import Perceptron\n",
    "from sklearn.metrics import accuracy_score"
   ]
  },
  {
   "cell_type": "code",
   "execution_count": null,
   "metadata": {},
   "outputs": [],
   "source": [
    "# Datos de la compuerta OR\n",
    "X = np.array([[0, 0], [0, 1], [1, 0], [1, 1]])  # Entradas\n",
    "y = np.array([0, 1, 1, 1])  # Salidas esperadas"
   ]
  },
  {
   "cell_type": "code",
   "execution_count": null,
   "metadata": {},
   "outputs": [],
   "source": [
    "# Creación del perceptrón\n",
    "perceptron = Perceptron(max_iter=1000, eta0=0.1, random_state=42)\n",
    "\n",
    "# Entrenamiento del perceptrón\n",
    "perceptron.fit(X, y)\n",
    "\n",
    "# Imprimir los pesos y el bias aprendidos\n",
    "print(\"Pesos aprendidos:\", perceptron.coef_)\n",
    "print(\"Bias aprendido:\", perceptron.intercept_)"
   ]
  },
  {
   "cell_type": "code",
   "execution_count": null,
   "metadata": {},
   "outputs": [],
   "source": [
    "# Función para probar patrones\n",
    "def probar_patron(perceptron, X):\n",
    "    y_pred = perceptron.predict(X)\n",
    "    return y_pred\n",
    "\n",
    "# Prueba del perceptrón entrenado\n",
    "print(\"\\n--- Prueba del perceptrón entrenado ---\")\n",
    "for i in range(len(X)):\n",
    "    y_pred = probar_patron(perceptron, [X[i]])\n",
    "    print(f\"Entrada: {X[i]}, Salida Esperada: {y[i]}, Salida Predicha: {y_pred}\")"
   ]
  },
  {
   "cell_type": "code",
   "execution_count": null,
   "metadata": {},
   "outputs": [],
   "source": [
    "# Evaluación del perceptrón\n",
    "y_pred = perceptron.predict(X)\n",
    "accuracy = accuracy_score(y, y_pred)\n",
    "print(f\"\\nAccuracy del perceptrón: {accuracy * 100:.2f}%\")"
   ]
  },
  {
   "cell_type": "markdown",
   "metadata": {},
   "source": [
    "## 4. Conclusión\n",
    "\n",
    "Este notebook demostró cómo crear y entrenar un perceptrón utilizando `sklearn` para reconocer una compuerta lógica OR. El perceptrón aprendió a clasificar correctamente los patrones de entrada."
   ]
  },
  {
   "cell_type": "markdown",
   "metadata": {},
   "source": [
    "## 5. Ejercicios Adicionales\n",
    "\n",
    "1. **Modifica los valores de entrada** \\( X \\) y las salidas esperadas \\( y \\) para probar otras compuertas lógicas (AND, XOR, etc.).\n",
    "2. **Cambia la tasa de aprendizaje** (`eta0`) y observa cómo afecta la convergencia del entrenamiento.\n",
    "3. **Aumenta el número de épocas** (`max_iter`) y analiza si el perceptrón puede aprender patrones más complejos."
   ]
  }
 ],
 "metadata": {
  "kernelspec": {
   "display_name": "Python 3",
   "language": "python",
   "name": "python3"
  },
  "language_info": {
   "codemirror_mode": {
    "name": "ipython",
    "version": 3
   },
   "file_extension": ".py",
   "mimetype": "text/x-python",
   "name": "python",
   "nbconvert_exporter": "python",
   "pygments_lexer": "ipython3",
   "version": "3.8.5"
  }
 },
 "nbformat": 4,
 "nbformat_minor": 4
}

