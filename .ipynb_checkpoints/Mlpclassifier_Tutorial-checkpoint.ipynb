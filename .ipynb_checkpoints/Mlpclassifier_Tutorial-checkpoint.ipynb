{
 "cells": [
  {
   "cell_type": "markdown",
   "metadata": {},
   "source": [
    "### Tutorial: Construcción de un Perceptrón Multicapa con scikit-learn"
   ]
  },
  {
   "cell_type": "markdown",
   "metadata": {},
   "source": [
    "## Introducción\n",
    "En este tutorial, aprenderás cómo construir paso a paso un perceptrón multicapa utilizando `MLPClassifier` de `scikit-learn`."
   ]
  },
  {
   "cell_type": "markdown",
   "metadata": {},
   "source": [
    "## Librerías y módulos requeridos\n",
    "Para ejecutar este código, necesitas instalar y tener disponibles las siguientes bibliotecas de Python:\n",
    "- **NumPy**: Para manipulación de arreglos numéricos.\n",
    "- **Matplotlib**: Para visualización de datos.\n",
    "- **Pandas**: Para manipulación de datos tabulares.\n",
    "- **Scikit-learn**: Para generación de datos, preprocesamiento y evaluación.\n",
    "Si alguna de estas bibliotecas no está instalada, puedes instalarla con:\n",
    "```bash\n",
    "pip install numpy matplotlib pandas scikit-learn\n",
    "```"
   ]
  },
  {
   "cell_type": "code",
   "execution_count": 1,
   "metadata": {},
   "outputs": [],
   "source": [
    "# Importamos las librerías necesarias\n",
    "import numpy as np\n",
    "import pandas as pd\n",
    "import matplotlib.pyplot as plt\n",
    "import seaborn as sns\n",
    "import warnings\n",
    "from sklearn.datasets import make_classification\n",
    "from sklearn.model_selection import train_test_split\n",
    "from sklearn.preprocessing import StandardScaler\n",
    "from sklearn.neural_network import MLPClassifier\n",
    "from sklearn.metrics import accuracy_score, confusion_matrix, classification_report\n",
    "from sklearn.exceptions import ConvergenceWarning"
   ]
  },
  {
   "cell_type": "markdown",
   "metadata": {},
   "source": [
    "## Generación del Dataset\n",
    "Se crea un dataset con 500 muestras, 5 características y dos clases balanceadas."
   ]
  },
  {
   "cell_type": "code",
   "execution_count": 2,
   "metadata": {},
   "outputs": [
    {
     "name": "stdout",
     "output_type": "stream",
     "text": [
      "Primeras 5 filas del dataset:\n",
      "   Característica 1  Característica 2  Característica 3  Característica 4  \\\n",
      "0          2.393991          0.533264         -1.128785          0.159167   \n",
      "1          0.719209         -0.140271         -3.698514          0.594245   \n",
      "2          1.815242         -0.421771          1.679847          1.015088   \n",
      "3         -0.942097          1.736781         -0.806531          0.142598   \n",
      "4         -1.196517         -0.749104         -2.429798         -0.911916   \n",
      "\n",
      "   Característica 5  Etiqueta  \n",
      "0          0.247471         0  \n",
      "1         -0.017264         1  \n",
      "2         -0.370461         1  \n",
      "3          0.536452         0  \n",
      "4          1.923608         0  \n"
     ]
    }
   ],
   "source": [
    "# Generación de datos con 5 variables independientes\n",
    "X, y = make_classification(n_samples=500, n_features=5, n_classes=2, \n",
    "                           n_informative=5, n_redundant=0, random_state=42)\n",
    "df = pd.DataFrame(X, columns=[f'Característica {i+1}' for i in range(X.shape[1])])\n",
    "df['Etiqueta'] = y\n",
    "print(\"Primeras 5 filas del dataset:\")\n",
    "print(df.head())"
   ]
  },
  {
   "cell_type": "markdown",
   "metadata": {},
   "source": [
    "## ¿Qué es la Matriz de Confusión y cómo interpretarla?\n",
    "La matriz de confusión evalúa el rendimiento del modelo de clasificación.\n",
    "### Estructura de la Matriz de Confusión\n",
    "|   | Predicción: Clase 0 | Predicción: Clase 1 |\n",
    "|---|---------------------|---------------------|\n",
    "| **Real: Clase 0** | **TN** (Verdaderos Negativos) | **FP** (Falsos Positivos) |\n",
    "| **Real: Clase 1** | **FN** (Falsos Negativos) | **TP** (Verdaderos Positivos) |\n",
    "### Métricas derivadas\n",
    "- **Precisión** = TP / (TP + FP)\n",
    "- **Recall (Sensibilidad)** = TP / (TP + FN)\n",
    "- **Exactitud** = (TP + TN) / (TP + TN + FP + FN)\n"
   ]
  },
  {
   "cell_type": "code",
   "execution_count": 3,
   "metadata": {},
   "outputs": [],
   "source": [
    "# División de los datos en entrenamiento y prueba\n",
    "X_train, X_test, y_train, y_test = train_test_split(X, y, test_size=0.3, random_state=42)"
   ]
  },
  {
   "cell_type": "code",
   "execution_count": 4,
   "metadata": {},
   "outputs": [],
   "source": [
    "# Normalización de los datos\n",
    "scaler = StandardScaler()\n",
    "X_train = scaler.fit_transform(X_train)\n",
    "X_test = scaler.transform(X_test)"
   ]
  },
  {
   "cell_type": "code",
   "execution_count": 5,
   "metadata": {},
   "outputs": [],
   "source": [
    "# Creación y configuración del modelo MLPClassifier\n",
    "mlp = MLPClassifier(hidden_layer_sizes=(5,), activation='relu', solver='adam', max_iter=2000, learning_rate_init=0.01, random_state=42)"
   ]
  },
  {
   "cell_type": "code",
   "execution_count": 6,
   "metadata": {},
   "outputs": [
    {
     "name": "stdout",
     "output_type": "stream",
     "text": [
      "Entrenamiento completado\n"
     ]
    }
   ],
   "source": [
    "# Entrenamiento del modelo\n",
    "with warnings.catch_warnings():\n",
    "    warnings.simplefilter(\"ignore\", category=ConvergenceWarning)\n",
    "    mlp.fit(X_train, y_train)\n",
    "    print(\"Entrenamiento completado\")"
   ]
  },
  {
   "cell_type": "code",
   "execution_count": 7,
   "metadata": {},
   "outputs": [],
   "source": [
    "# Predicciones\n",
    "y_pred = mlp.predict(X_test)"
   ]
  },
  {
   "cell_type": "code",
   "execution_count": 8,
   "metadata": {},
   "outputs": [
    {
     "name": "stdout",
     "output_type": "stream",
     "text": [
      "Precisión del modelo: 0.8533333333333334\n"
     ]
    },
    {
     "data": {
      "image/png": "[encoded data removed]",
      "text/plain": [
       "<Figure size 600x400 with 2 Axes>"
      ]
     },
     "metadata": {},
     "output_type": "display_data"
    }
   ],
   "source": [
    "# Evaluación del modelo\n",
    "print(\"Precisión del modelo:\", accuracy_score(y_test, y_pred))\n",
    "conf_matrix = confusion_matrix(y_test, y_pred)\n",
    "plt.figure(figsize=(6, 4))\n",
    "sns.heatmap(conf_matrix, annot=True, fmt=\"d\", cmap=\"Blues\", xticklabels=[\"Clase 0\", \"Clase 1\"], yticklabels=[\"Clase 0\", \"Clase 1\"])\n",
    "plt.xlabel(\"Predicción\")\n",
    "plt.ylabel(\"Real\")\n",
    "plt.title(\"Matriz de Confusión\")\n",
    "plt.show()"
   ]
  },
  {
   "cell_type": "code",
   "execution_count": 9,
   "metadata": {},
   "outputs": [
    {
     "name": "stdout",
     "output_type": "stream",
     "text": [
      "\n",
      "Reporte de clasificación:\n",
      "              precision    recall  f1-score   support\n",
      "\n",
      "           0       0.82      0.89      0.86        74\n",
      "           1       0.89      0.82      0.85        76\n",
      "\n",
      "    accuracy                           0.85       150\n",
      "   macro avg       0.86      0.85      0.85       150\n",
      "weighted avg       0.86      0.85      0.85       150\n",
      "\n"
     ]
    }
   ],
   "source": [
    "print(\"\\nReporte de clasificación:\")\n",
    "print(classification_report(y_test, y_pred))"
   ]
  },
  {
   "cell_type": "code",
   "execution_count": null,
   "metadata": {},
   "outputs": [],
   "source": []
  }
 ],
 "metadata": {
  "kernelspec": {
   "display_name": "Python 3 (ipykernel)",
   "language": "python",
   "name": "python3"
  },
  "language_info": {
   "codemirror_mode": {
    "name": "ipython",
    "version": 3
   },
   "file_extension": ".py",
   "mimetype": "text/x-python",
   "name": "python",
   "nbconvert_exporter": "python",
   "pygments_lexer": "ipython3",
   "version": "3.9.6"
  }
 },
 "nbformat": 4,
 "nbformat_minor": 4
}
