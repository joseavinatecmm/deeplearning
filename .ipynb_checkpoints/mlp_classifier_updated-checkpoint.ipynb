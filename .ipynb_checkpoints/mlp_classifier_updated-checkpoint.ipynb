{
 "cells": [
  {
   "cell_type": "markdown",
   "metadata": {},
   "source": [
    "### Tutorial: Construcción de un Perceptrón Multicapa con scikit-learn\n",
    "\n",
    "## Introducción\n",
    "En este tutorial, aprenderás cómo construir paso a paso un perceptrón multicapa utilizando `MLPClassifier` de `scikit-learn`. Este modelo contará con:\n",
    "- Una capa de entrada\n",
    "- Una capa oculta\n",
    "- Una capa de salida\n"
   ]
  },
  {
   "cell_type": "markdown",
   "metadata": {},
   "source": [
    "## ¿Qué es un Perceptrón Multicapa?\n",
    "El perceptrón multicapa (MLP) es una red neuronal artificial compuesta por múltiples capas de neuronas interconectadas. Cada neurona aplica una función de activación a una combinación lineal de sus entradas para generar una salida."
   ]
  },
  {
   "cell_type": "markdown",
   "metadata": {},
   "source": [
    "## Descripción del Dataset\n",
    "En este ejemplo, utilizamos `make_classification` de `scikit-learn` para generar un conjunto de datos sintético. Este conjunto de datos consiste en:\n",
    "- **500 muestras** (instancias)\n",
    "- **5 variables independientes** (características o patrones de entrada)\n",
    "- **1 variable dependiente** (etiqueta de clasificación binaria: 0 o 1)\n",
    "- **Sin variables redundantes**, lo que significa que ambas características aportan información relevante para la clasificación."
   ]
  },
  {
   "cell_type": "markdown",
   "metadata": {},
   "source": [
    "## Librerías y módulos requeridos\n",
    "Para ejecutar este código, necesitas instalar y tener disponibles las siguientes bibliotecas de Python:\n",
    "- **NumPy**: Para manipulación de arreglos numéricos.\n",
    "- **Matplotlib** (opcional): Para visualización de datos.\n",
    "- **Scikit-learn**: Para generación de datos, preprocesamiento, creación del modelo y evaluación.\n",
    "Si alguna de estas bibliotecas no está instalada, puedes instalarlas con el siguiente comando:\n",
    "```bash\n",
    "pip install numpy matplotlib scikit-learn\n",
    "```"
   ]
  },
  {
   "cell_type": "code",
   "execution_count": null,
   "metadata": {},
   "outputs": [],
   "source": [
    "# Paso 1: Generación de datos con 5 variables independientes\n",
    "X, y = make_classification(n_samples=500, n_features=5, n_classes=2, \n",
    "                           n_informative=5, n_redundant=0, random_state=42)\n",
    "print(\"Forma del conjunto de datos:\", X.shape)  # Para verificar que hay 5 variables independientes\n"
   ]
  },
  {
   "cell_type": "code",
   "execution_count": 2,
   "metadata": {},
   "outputs": [
    {
     "ename": "NameError",
     "evalue": "name 'np' is not defined",
     "output_type": "error",
     "traceback": [
      "\u001b[0;31m---------------------------------------------------------------------------\u001b[0m",
      "\u001b[0;31mNameError\u001b[0m                                 Traceback (most recent call last)",
      "Cell \u001b[0;32mIn[2], line 2\u001b[0m\n\u001b[1;32m      1\u001b[0m \u001b[38;5;66;03m# Verificamos el balance de clases\u001b[39;00m\n\u001b[0;32m----> 2\u001b[0m unique, counts \u001b[38;5;241m=\u001b[39m \u001b[43mnp\u001b[49m\u001b[38;5;241m.\u001b[39munique(y, return_counts\u001b[38;5;241m=\u001b[39m\u001b[38;5;28;01mTrue\u001b[39;00m)\n\u001b[1;32m      3\u001b[0m \u001b[38;5;28mprint\u001b[39m(\u001b[38;5;124m\"\u001b[39m\u001b[38;5;124mDistribución de clases:\u001b[39m\u001b[38;5;124m\"\u001b[39m, \u001b[38;5;28mdict\u001b[39m(\u001b[38;5;28mzip\u001b[39m(unique, counts)))\n\u001b[1;32m      4\u001b[0m \u001b[38;5;66;03m# Mostramos un resumen de los primeros valores del dataset\u001b[39;00m\n",
      "\u001b[0;31mNameError\u001b[0m: name 'np' is not defined"
     ]
    }
   ],
   "source": [
    "# Verificamos el balance de clases\n",
    "unique, counts = np.unique(y, return_counts=True)\n",
    "print(\"Distribución de clases:\", dict(zip(unique, counts)))\n",
    "# Mostramos un resumen de los primeros valores del dataset\n",
    "print(\"Primeras 5 filas de los datos:\")\n",
    "print(X[:5])\n"
   ]
  },
  {
   "cell_type": "code",
   "execution_count": null,
   "metadata": {},
   "outputs": [],
   "source": [
    "# Paso 2: División de los datos en entrenamiento y prueba\n",
    "X_train, X_test, y_train, y_test = train_test_split(X, y, test_size=0.3, random_state=42)\n"
   ]
  },
  {
   "cell_type": "code",
   "execution_count": null,
   "metadata": {},
   "outputs": [],
   "source": [
    "# Paso 3: Normalización de los datos\n",
    "scaler = StandardScaler()\n",
    "X_train = scaler.fit_transform(X_train)\n",
    "X_test = scaler.transform(X_test)\n"
   ]
  },
  {
   "cell_type": "code",
   "execution_count": null,
   "metadata": {},
   "outputs": [],
   "source": [
    "# Paso 4: Creación y configuración del Perceptrón Multicapa\n",
    "mlp = MLPClassifier(\n",
    "    hidden_layer_sizes=(5,),  # Una capa oculta con 5 neuronas\n",
    "    activation='relu',  # Función de activación ReLU\n",
    "    solver='adam',  # Optimizador Adam\n",
    "    max_iter=1000,  # Número máximo de iteraciones\n",
    "    random_state=42\n",
    ")\n"
   ]
  },
  {
   "cell_type": "code",
   "execution_count": null,
   "metadata": {},
   "outputs": [],
   "source": [
    "# Paso 5: Entrenamiento del modelo\n",
    "mlp.fit(X_train, y_train)\n",
    "print(\"Entrenamiento completado\")\n"
   ]
  },
  {
   "cell_type": "code",
   "execution_count": null,
   "metadata": {},
   "outputs": [],
   "source": [
    "# Paso 6: Predicciones\n",
    "y_pred = mlp.predict(X_test)\n"
   ]
  },
  {
   "cell_type": "code",
   "execution_count": null,
   "metadata": {},
   "outputs": [],
   "source": [
    "# Paso 7: Evaluación del modelo\n",
    "print(\"Precisión del modelo:\", accuracy_score(y_test, y_pred))\n",
    "print(\"\\nMatriz de confusión:\")\n",
    "print(confusion_matrix(y_test, y_pred))\n",
    "print(\"\\nReporte de clasificación:\")\n",
    "print(classification_report(y_test, y_pred))\n"
   ]
  }
 ],
 "metadata": {
  "kernelspec": {
   "display_name": "Python 3 (ipykernel)",
   "language": "python",
   "name": "python3"
  },
  "language_info": {
   "codemirror_mode": {
    "name": "ipython",
    "version": 3
   },
   "file_extension": ".py",
   "mimetype": "text/x-python",
   "name": "python",
   "nbconvert_exporter": "python",
   "pygments_lexer": "ipython3",
   "version": "3.9.6"
  }
 },
 "nbformat": 4,
 "nbformat_minor": 4
}
