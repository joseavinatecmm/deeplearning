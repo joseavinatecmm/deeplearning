{
 "cells": [
  {
   "cell_type": "markdown",
   "metadata": {},
   "source": [
    "### Construcción de un Perceptrón Multicapa con scikit-learn\n",
    "\n",
    "## Introducción\n",
    "Construyendo, paso a paso, un perceptrón multicapa utilizando:\n",
    "`MLPClassifier` de `scikit-learn`. \n",
    "\n",
    "Este modelo contará con:\n",
    "- Una capa de entrada\n",
    "- Una capa oculta\n",
    "- Una capa de salida\n"
   ]
  },
  {
   "cell_type": "markdown",
   "metadata": {},
   "source": [
    "## ¿Qué es un Perceptrón Multicapa?\n",
    "El perceptrón multicapa (MLP) es una red neuronal artificial compuesta por múltiples capas de neuronas interconectadas. Cada neurona aplica una función de activación a una combinación lineal de sus entradas para generar una salida."
   ]
  },
  {
   "cell_type": "markdown",
   "metadata": {},
   "source": [
    "## Descripción del Dataset\n",
    "En este ejemplo, utilizamos `make_classification` de `scikit-learn` para generar un conjunto de datos sintético. Este conjunto de datos consiste en:\n",
    "- **500 muestras** (instancias)\n",
    "- **2 variables independientes** (características o patrones de entrada)\n",
    "- **1 variable dependiente** (etiqueta de clasificación binaria: 0 o 1)\n",
    "- **Sin variables redundantes**, lo que significa que ambas características aportan información relevante para la clasificación."
   ]
  },
  {
   "cell_type": "code",
   "execution_count": null,
   "metadata": {},
   "outputs": [],
   "source": [
    "# Importamos las librerías necesarias\n",
    "import numpy as np\n",
    "try:\n",
    "    import matplotlib.pyplot as plt\n",
    "except ModuleNotFoundError:\n",
    "    print(\"Error: matplotlib no está instalado. Instálalo con `pip install matplotlib`.\")\n",
    "    plt = None\n",
    "from sklearn.datasets import make_classification\n",
    "from sklearn.model_selection import train_test_split\n",
    "from sklearn.preprocessing import StandardScaler\n",
    "from sklearn.neural_network import MLPClassifier\n",
    "from sklearn.metrics import accuracy_score, confusion_matrix, classification_report\n"
   ]
  },
  {
   "cell_type": "code",
   "execution_count": null,
   "metadata": {},
   "outputs": [],
   "source": [
    "# Paso 1: Generación de datos\n",
    "X, y = make_classification(n_samples=500, n_features=2, n_classes=2, \n",
    "                           n_informative=2, n_redundant=0, random_state=42)\n",
    "if plt:\n",
    "    plt.scatter(X[:, 0], X[:, 1], c=y, cmap=plt.cm.Paired)\n",
    "    plt.title(\"Datos de clasificación binaria\")\n",
    "    plt.xlabel(\"Característica 1\")\n",
    "    plt.ylabel(\"Característica 2\")\n",
    "    plt.show()\n"
   ]
  },
  {
   "cell_type": "code",
   "execution_count": null,
   "metadata": {},
   "outputs": [],
   "source": [
    "# Verificamos el balance de clases\n",
    "unique, counts = np.unique(y, return_counts=True)\n",
    "print(\"Distribución de clases:\", dict(zip(unique, counts)))\n"
   ]
  },
  {
   "cell_type": "code",
   "execution_count": null,
   "metadata": {},
   "outputs": [],
   "source": [
    "# Paso 2: División de los datos en entrenamiento y prueba\n",
    "X_train, X_test, y_train, y_test = train_test_split(X, y, test_size=0.3, random_state=42)\n"
   ]
  },
  {
   "cell_type": "code",
   "execution_count": null,
   "metadata": {},
   "outputs": [],
   "source": [
    "# Paso 3: Normalización de los datos\n",
    "scaler = StandardScaler()\n",
    "X_train = scaler.fit_transform(X_train)\n",
    "X_test = scaler.transform(X_test)\n"
   ]
  },
  {
   "cell_type": "code",
   "execution_count": null,
   "metadata": {},
   "outputs": [],
   "source": [
    "# Paso 4: Creación y configuración del Perceptrón Multicapa\n",
    "mlp = MLPClassifier(\n",
    "    hidden_layer_sizes=(5,),  # Una capa oculta con 5 neuronas\n",
    "    activation='relu',  # Función de activación ReLU\n",
    "    solver='adam',  # Optimizador Adam\n",
    "    max_iter=1000,  # Número máximo de iteraciones\n",
    "    random_state=42\n",
    ")\n"
   ]
  },
  {
   "cell_type": "code",
   "execution_count": null,
   "metadata": {},
   "outputs": [],
   "source": [
    "# Paso 5: Entrenamiento del modelo\n",
    "mlp.fit(X_train, y_train)\n",
    "print(\"Entrenamiento completado\")\n"
   ]
  },
  {
   "cell_type": "code",
   "execution_count": null,
   "metadata": {},
   "outputs": [],
   "source": [
    "# Paso 6: Predicciones\n",
    "y_pred = mlp.predict(X_test)\n"
   ]
  },
  {
   "cell_type": "code",
   "execution_count": null,
   "metadata": {},
   "outputs": [],
   "source": [
    "# Paso 7: Evaluación del modelo\n",
    "print(\"Precisión del modelo:\", accuracy_score(y_test, y_pred))\n",
    "print(\"\\nMatriz de confusión:\")\n",
    "print(confusion_matrix(y_test, y_pred))\n",
    "print(\"\\nReporte de clasificación:\")\n",
    "print(classification_report(y_test, y_pred))\n"
   ]
  }
 ],
 "metadata": {
  "kernelspec": {
   "display_name": "Python 3 (ipykernel)",
   "language": "python",
   "name": "python3"
  },
  "language_info": {
   "codemirror_mode": {
    "name": "ipython",
    "version": 3
   },
   "file_extension": ".py",
   "mimetype": "text/x-python",
   "name": "python",
   "nbconvert_exporter": "python",
   "pygments_lexer": "ipython3",
   "version": "3.9.6"
  }
 },
 "nbformat": 4,
 "nbformat_minor": 4
}
